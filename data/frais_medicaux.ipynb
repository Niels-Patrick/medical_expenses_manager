{
 "cells": [
  {
   "cell_type": "markdown",
   "metadata": {},
   "source": [
    "# Prédiction de Frais Médicaux"
   ]
  },
  {
   "cell_type": "markdown",
   "metadata": {},
   "source": [
    "### Importations"
   ]
  },
  {
   "cell_type": "code",
   "execution_count": 5,
   "metadata": {},
   "outputs": [],
   "source": [
    "import pandas as pd\n",
    "import seaborn as sns\n",
    "import matplotlib.pyplot as plt\n",
    "import numpy as np\n",
    "from sklearn.preprocessing import OneHotEncoder\n",
    "from sklearn.model_selection import train_test_split"
   ]
  },
  {
   "cell_type": "markdown",
   "metadata": {},
   "source": [
    "### Chargement du dataset"
   ]
  },
  {
   "cell_type": "code",
   "execution_count": 7,
   "metadata": {},
   "outputs": [],
   "source": [
    "df_insurance = pd.read_csv(\"insurance.csv\", sep=\",\")"
   ]
  },
  {
   "cell_type": "code",
   "execution_count": 9,
   "metadata": {},
   "outputs": [],
   "source": [
    "def binary_encoder(df, colonne, choix_true, choix_false):\n",
    "    '''\n",
    "    Encode une variable binaire\n",
    "\n",
    "    Parameters:\n",
    "        - df: le DataFrame sur lequel travailler\n",
    "        - colonne: la variable à encoder\n",
    "        - choix_true: la valeur à remplacer par 1\n",
    "        - choix_false: la valeur à remplacer par 0\n",
    "    '''\n",
    "    df[colonne] = df[colonne].map({choix_false: 0, choix_true: 1})"
   ]
  },
  {
   "cell_type": "code",
   "execution_count": 10,
   "metadata": {},
   "outputs": [],
   "source": [
    "def onehot_encoder(df, colonne):\n",
    "    '''\n",
    "    Effectue un encodage One-Hot sur une variable, puis supprime la variable originelle dans\n",
    "    le DataFrame d'origine\n",
    "\n",
    "    Parameters:\n",
    "        - df: le DataFrame sur lequel travailler\n",
    "        - colonne: la variable à encoder\n",
    "    '''\n",
    "    encoder = OneHotEncoder()\n",
    "    encoded_array = encoder.fit_transform(df[[colonne]]).toarray()\n",
    "    df_encoded = pd.DataFrame(encoded_array, columns=encoder.get_feature_names_out([colonne]))\n",
    "\n",
    "    # Remplacement de la variable par le nouveau DataFrame encodé dans la DataFrame original\n",
    "    df.drop(columns=[colonne], inplace=True)\n",
    "    df = pd.concat([df, df_encoded], axis=1)\n",
    "    return df"
   ]
  },
  {
   "cell_type": "markdown",
   "metadata": {},
   "source": [
    "## Preprocessing"
   ]
  },
  {
   "cell_type": "markdown",
   "metadata": {},
   "source": [
    "### Gestion des NaN"
   ]
  },
  {
   "cell_type": "markdown",
   "metadata": {},
   "source": [
    "Il n'y a pas de NaN dans ce DataFrame"
   ]
  },
  {
   "cell_type": "markdown",
   "metadata": {},
   "source": [
    "### Gestion des outliers"
   ]
  },
  {
   "cell_type": "markdown",
   "metadata": {},
   "source": [
    "Variables ayant des outliers :\n",
    "- bmi : quelques outliers, mais qui restent cohérents avec la variable et le contexte, donc pas de nécessité de traitement.\n",
    "- expenses : présence de valeurs extrêmes, mais qui restent cohérents avec la variable et le contexte, donc pas de nécessité de traitement."
   ]
  },
  {
   "cell_type": "markdown",
   "metadata": {},
   "source": [
    "### Suppression des variables inutiles"
   ]
  },
  {
   "cell_type": "markdown",
   "metadata": {},
   "source": [
    "Il n'y a pas de variables inutiles dans ce DataFrame"
   ]
  },
  {
   "cell_type": "markdown",
   "metadata": {},
   "source": [
    "### Encodage des variables catégorielles"
   ]
  },
  {
   "cell_type": "markdown",
   "metadata": {},
   "source": [
    "Les variables catégorielles sont :\n",
    "- sex : variable binaire\n",
    "- smoker : variable binaire\n",
    "- region : variable non-ordonnée"
   ]
  },
  {
   "cell_type": "code",
   "execution_count": 11,
   "metadata": {},
   "outputs": [],
   "source": [
    "# Encodage binaire sur toutes les variables binaires\n",
    "binary_encoder(df=df_insurance, colonne='sex', choix_true='female', choix_false='male')\n",
    "binary_encoder(df=df_insurance, colonne='smoker', choix_true='yes', choix_false='no')"
   ]
  },
  {
   "cell_type": "code",
   "execution_count": 12,
   "metadata": {},
   "outputs": [],
   "source": [
    "# Encodage One-Hot pour les variables non-ordonnées\n",
    "df_encoded = onehot_encoder(df=df_insurance, colonne='region')"
   ]
  },
  {
   "cell_type": "markdown",
   "metadata": {},
   "source": [
    "### Dernière vérification des données"
   ]
  },
  {
   "cell_type": "code",
   "execution_count": 13,
   "metadata": {},
   "outputs": [
    {
     "name": "stdout",
     "output_type": "stream",
     "text": [
      "<class 'pandas.core.frame.DataFrame'>\n",
      "RangeIndex: 1338 entries, 0 to 1337\n",
      "Data columns (total 10 columns):\n",
      " #   Column            Non-Null Count  Dtype  \n",
      "---  ------            --------------  -----  \n",
      " 0   age               1338 non-null   int64  \n",
      " 1   sex               1338 non-null   int64  \n",
      " 2   bmi               1338 non-null   float64\n",
      " 3   children          1338 non-null   int64  \n",
      " 4   smoker            1338 non-null   int64  \n",
      " 5   charges           1338 non-null   float64\n",
      " 6   region_northeast  1338 non-null   float64\n",
      " 7   region_northwest  1338 non-null   float64\n",
      " 8   region_southeast  1338 non-null   float64\n",
      " 9   region_southwest  1338 non-null   float64\n",
      "dtypes: float64(6), int64(4)\n",
      "memory usage: 104.7 KB\n"
     ]
    },
    {
     "data": {
      "text/plain": [
       "None"
      ]
     },
     "metadata": {},
     "output_type": "display_data"
    }
   ],
   "source": [
    "display(df_encoded.info())"
   ]
  },
  {
   "cell_type": "markdown",
   "metadata": {},
   "source": [
    "### Séparation des données d'entraînement et des données de test"
   ]
  },
  {
   "cell_type": "code",
   "execution_count": 14,
   "metadata": {},
   "outputs": [],
   "source": [
    "X = df_encoded.drop('charges', axis=1)\n",
    "y = df_encoded['charges']"
   ]
  },
  {
   "cell_type": "code",
   "execution_count": 15,
   "metadata": {},
   "outputs": [
    {
     "data": {
      "text/html": [
       "<div>\n",
       "<style scoped>\n",
       "    .dataframe tbody tr th:only-of-type {\n",
       "        vertical-align: middle;\n",
       "    }\n",
       "\n",
       "    .dataframe tbody tr th {\n",
       "        vertical-align: top;\n",
       "    }\n",
       "\n",
       "    .dataframe thead th {\n",
       "        text-align: right;\n",
       "    }\n",
       "</style>\n",
       "<table border=\"1\" class=\"dataframe\">\n",
       "  <thead>\n",
       "    <tr style=\"text-align: right;\">\n",
       "      <th></th>\n",
       "      <th>age</th>\n",
       "      <th>sex</th>\n",
       "      <th>bmi</th>\n",
       "      <th>children</th>\n",
       "      <th>smoker</th>\n",
       "      <th>region_northeast</th>\n",
       "      <th>region_northwest</th>\n",
       "      <th>region_southeast</th>\n",
       "      <th>region_southwest</th>\n",
       "    </tr>\n",
       "  </thead>\n",
       "  <tbody>\n",
       "    <tr>\n",
       "      <th>0</th>\n",
       "      <td>19</td>\n",
       "      <td>1</td>\n",
       "      <td>27.900</td>\n",
       "      <td>0</td>\n",
       "      <td>1</td>\n",
       "      <td>0.0</td>\n",
       "      <td>0.0</td>\n",
       "      <td>0.0</td>\n",
       "      <td>1.0</td>\n",
       "    </tr>\n",
       "    <tr>\n",
       "      <th>1</th>\n",
       "      <td>18</td>\n",
       "      <td>0</td>\n",
       "      <td>33.770</td>\n",
       "      <td>1</td>\n",
       "      <td>0</td>\n",
       "      <td>0.0</td>\n",
       "      <td>0.0</td>\n",
       "      <td>1.0</td>\n",
       "      <td>0.0</td>\n",
       "    </tr>\n",
       "    <tr>\n",
       "      <th>2</th>\n",
       "      <td>28</td>\n",
       "      <td>0</td>\n",
       "      <td>33.000</td>\n",
       "      <td>3</td>\n",
       "      <td>0</td>\n",
       "      <td>0.0</td>\n",
       "      <td>0.0</td>\n",
       "      <td>1.0</td>\n",
       "      <td>0.0</td>\n",
       "    </tr>\n",
       "    <tr>\n",
       "      <th>3</th>\n",
       "      <td>33</td>\n",
       "      <td>0</td>\n",
       "      <td>22.705</td>\n",
       "      <td>0</td>\n",
       "      <td>0</td>\n",
       "      <td>0.0</td>\n",
       "      <td>1.0</td>\n",
       "      <td>0.0</td>\n",
       "      <td>0.0</td>\n",
       "    </tr>\n",
       "    <tr>\n",
       "      <th>4</th>\n",
       "      <td>32</td>\n",
       "      <td>0</td>\n",
       "      <td>28.880</td>\n",
       "      <td>0</td>\n",
       "      <td>0</td>\n",
       "      <td>0.0</td>\n",
       "      <td>1.0</td>\n",
       "      <td>0.0</td>\n",
       "      <td>0.0</td>\n",
       "    </tr>\n",
       "  </tbody>\n",
       "</table>\n",
       "</div>"
      ],
      "text/plain": [
       "   age  sex     bmi  children  smoker  region_northeast  region_northwest  \\\n",
       "0   19    1  27.900         0       1               0.0               0.0   \n",
       "1   18    0  33.770         1       0               0.0               0.0   \n",
       "2   28    0  33.000         3       0               0.0               0.0   \n",
       "3   33    0  22.705         0       0               0.0               1.0   \n",
       "4   32    0  28.880         0       0               0.0               1.0   \n",
       "\n",
       "   region_southeast  region_southwest  \n",
       "0               0.0               1.0  \n",
       "1               1.0               0.0  \n",
       "2               1.0               0.0  \n",
       "3               0.0               0.0  \n",
       "4               0.0               0.0  "
      ]
     },
     "metadata": {},
     "output_type": "display_data"
    },
    {
     "name": "stdout",
     "output_type": "stream",
     "text": [
      "<class 'pandas.core.frame.DataFrame'>\n",
      "RangeIndex: 1338 entries, 0 to 1337\n",
      "Data columns (total 9 columns):\n",
      " #   Column            Non-Null Count  Dtype  \n",
      "---  ------            --------------  -----  \n",
      " 0   age               1338 non-null   int64  \n",
      " 1   sex               1338 non-null   int64  \n",
      " 2   bmi               1338 non-null   float64\n",
      " 3   children          1338 non-null   int64  \n",
      " 4   smoker            1338 non-null   int64  \n",
      " 5   region_northeast  1338 non-null   float64\n",
      " 6   region_northwest  1338 non-null   float64\n",
      " 7   region_southeast  1338 non-null   float64\n",
      " 8   region_southwest  1338 non-null   float64\n",
      "dtypes: float64(5), int64(4)\n",
      "memory usage: 94.2 KB\n"
     ]
    },
    {
     "data": {
      "text/plain": [
       "None"
      ]
     },
     "metadata": {},
     "output_type": "display_data"
    }
   ],
   "source": [
    "display(X.head())\n",
    "display(X.info())"
   ]
  },
  {
   "cell_type": "code",
   "execution_count": 16,
   "metadata": {},
   "outputs": [
    {
     "data": {
      "text/plain": [
       "0    16884.92400\n",
       "1     1725.55230\n",
       "2     4449.46200\n",
       "3    21984.47061\n",
       "4     3866.85520\n",
       "Name: charges, dtype: float64"
      ]
     },
     "metadata": {},
     "output_type": "display_data"
    },
    {
     "name": "stdout",
     "output_type": "stream",
     "text": [
      "<class 'pandas.core.series.Series'>\n",
      "RangeIndex: 1338 entries, 0 to 1337\n",
      "Series name: charges\n",
      "Non-Null Count  Dtype  \n",
      "--------------  -----  \n",
      "1338 non-null   float64\n",
      "dtypes: float64(1)\n",
      "memory usage: 10.6 KB\n"
     ]
    },
    {
     "data": {
      "text/plain": [
       "None"
      ]
     },
     "metadata": {},
     "output_type": "display_data"
    }
   ],
   "source": [
    "display(y.head())\n",
    "display(y.info())"
   ]
  },
  {
   "cell_type": "code",
   "execution_count": 17,
   "metadata": {},
   "outputs": [],
   "source": [
    "X_train, X_test, y_train, y_test = train_test_split(X, y, test_size=0.2, random_state=42)"
   ]
  },
  {
   "cell_type": "markdown",
   "metadata": {},
   "source": [
    "### Scaling"
   ]
  },
  {
   "cell_type": "markdown",
   "metadata": {},
   "source": [
    "Etant donné qu'il n'y a qu'une seule variable dont la distribution est gaussienne dans le DataFrame, il est préférable d'utiliser le MinMaxScaler."
   ]
  },
  {
   "cell_type": "code",
   "execution_count": 18,
   "metadata": {},
   "outputs": [],
   "source": [
    "from sklearn.preprocessing import MinMaxScaler\n",
    "\n",
    "scaler_X = MinMaxScaler()\n",
    "X_train_scaled = scaler_X.fit_transform(X_train)\n",
    "X_test_scaled = scaler_X.transform(X_test)\n",
    "\n",
    "scaler_y = MinMaxScaler()\n",
    "y_train = pd.DataFrame(y_train)\n",
    "y_test = pd.DataFrame(y_test)\n",
    "y_train_scaled = scaler_y.fit_transform(y_train)\n",
    "y_test_scaled = scaler_y.transform(y_test)\n",
    "\n",
    "y_train_scaled = y_train_scaled.flatten()\n",
    "y_test_scaled = y_test_scaled.flatten()"
   ]
  },
  {
   "cell_type": "markdown",
   "metadata": {},
   "source": [
    "## 3. Entraînement des modèles"
   ]
  },
  {
   "cell_type": "code",
   "execution_count": 19,
   "metadata": {},
   "outputs": [],
   "source": [
    "from sklearn.metrics import r2_score, mean_absolute_error, mean_squared_error, root_mean_squared_error, make_scorer, precision_score\n",
    "from sklearn.model_selection import KFold, StratifiedKFold, GridSearchCV, RandomizedSearchCV, cross_val_score\n",
    "from sklearn.linear_model import LinearRegression\n",
    "from sklearn.neighbors import KNeighborsRegressor\n",
    "from sklearn.svm import SVR\n",
    "from sklearn.tree import DecisionTreeRegressor\n",
    "from sklearn.ensemble import RandomForestRegressor, GradientBoostingRegressor, HistGradientBoostingRegressor\n",
    "from sklearn.inspection import permutation_importance"
   ]
  },
  {
   "cell_type": "markdown",
   "metadata": {},
   "source": [
    "### Optimisation des hyperparamètres"
   ]
  },
  {
   "cell_type": "code",
   "execution_count": 16,
   "metadata": {},
   "outputs": [],
   "source": [
    "# GridSearchCV\n",
    "def grid_search_cv(model, param_grid):\n",
    "    grid_search = GridSearchCV(\n",
    "        estimator=model,\n",
    "        param_grid=param_grid,\n",
    "        scoring='r2',\n",
    "        cv=5,\n",
    "        n_jobs=-1\n",
    "    )\n",
    "\n",
    "    grid_search.fit(X_train_scaled, y_train_scaled)\n",
    "\n",
    "    print(\"Meilleurs paramètres:\", grid_search.best_params_)\n",
    "    print(\"Meilleure Cross-Validation R²:\", grid_search.best_score_)"
   ]
  },
  {
   "cell_type": "code",
   "execution_count": 17,
   "metadata": {},
   "outputs": [],
   "source": [
    "# RandomizeSearchCV\n",
    "def randomized_search_cv(model, param_dist):\n",
    "    random_search = RandomizedSearchCV(\n",
    "        estimator=model,\n",
    "        param_distributions=param_dist,\n",
    "        n_iter=10,\n",
    "        scoring='r2',\n",
    "        cv=5,\n",
    "        n_jobs=-1\n",
    "    )\n",
    "\n",
    "    random_search.fit(X_train_scaled, y_train_scaled)\n",
    "\n",
    "    print(\"Meilleurs paramètres:\", random_search.best_params_)\n",
    "    print(\"Meilleure Cross-Validation R²:\", random_search.best_score_)"
   ]
  },
  {
   "cell_type": "markdown",
   "metadata": {},
   "source": [
    "### Cross-Validation"
   ]
  },
  {
   "cell_type": "code",
   "execution_count": 18,
   "metadata": {},
   "outputs": [],
   "source": [
    "# k-fold cross-validation à 5 folds\n",
    "def kfold_cv(model):\n",
    "    kf = KFold(n_splits=5, shuffle=True, random_state=42)\n",
    "    scores = cross_val_score(model, X_train_scaled, y_train_scaled, cv=kf, scoring='r2')\n",
    "    print(f\"k-fold cross-validation R²: {scores.mean()}\")"
   ]
  },
  {
   "cell_type": "code",
   "execution_count": 19,
   "metadata": {},
   "outputs": [],
   "source": [
    "# Stratified k-fold cross-validation à 5 folds\n",
    "def s_kf_cv(model):\n",
    "    y_binned = pd.qcut(y_train_scaled, q=5, labels=False)\n",
    "    skf = StratifiedKFold(n_splits=5, shuffle=True, random_state=42)\n",
    "    scores = cross_val_score(model, X_train_scaled, y_train_scaled, cv=skf.split(X_train_scaled, y_binned), scoring='r2')\n",
    "    print(f\"stratified k-fold cross-validation R²: {scores.mean()}\")"
   ]
  },
  {
   "cell_type": "markdown",
   "metadata": {},
   "source": [
    "### Simple Validation"
   ]
  },
  {
   "cell_type": "code",
   "execution_count": 20,
   "metadata": {},
   "outputs": [],
   "source": [
    "def performances_model(model):\n",
    "    '''\n",
    "    Affichage des performances du modèle passé en paramètre\n",
    "\n",
    "    Parameters:\n",
    "        model: le modèle de ML entraîné à tester\n",
    "    '''\n",
    "    y_pred = model.predict(X_test_scaled)\n",
    "\n",
    "    r2 = r2_score(y_test_scaled, y_pred)\n",
    "    mae = mean_absolute_error(y_test_scaled, y_pred)\n",
    "    mse = mean_squared_error(y_test_scaled, y_pred)\n",
    "    rmse = root_mean_squared_error(y_test_scaled, y_pred)\n",
    "\n",
    "    print(f\"R² score: {r2}\")\n",
    "    print(f\"Mean Absolute Error score: \\n{mae}\")\n",
    "    print(f\"Mean Squared Error score: \\n{mse}\")\n",
    "    print(f\"Root Mean Squared Error score: \\n{rmse}\")\n",
    "\n",
    "    return r2, mae, mse, rmse"
   ]
  },
  {
   "cell_type": "markdown",
   "metadata": {},
   "source": [
    "### Paramètres"
   ]
  },
  {
   "cell_type": "code",
   "execution_count": 21,
   "metadata": {},
   "outputs": [],
   "source": [
    "# Dictionnaire de paramètres pour les grid search et randomized search\n",
    "\n",
    "param = {\n",
    "    'knn': {\n",
    "        'n_neighbors': [3, 5, 7, 9, 11, 13, 15, 17, 19, 21],\n",
    "        'weights': ['uniform', 'distance'],\n",
    "        'metric': ['euclidean', 'manhattan', 'minkowski']\n",
    "    },\n",
    "    'svm': {\n",
    "        'C': [0.01, 0.1, 1, 10, 100],\n",
    "        'kernel': ['linear', 'rbf', 'sigmoid', 'poly'],\n",
    "        'epsilon': [0.001, 0.01, 0.1, 1, 10]\n",
    "    },\n",
    "    'decision_tree': {\n",
    "        'max_depth': [3, 5, 10, None],\n",
    "        'min_samples_split': [2, 5, 10],\n",
    "        'criterion': ['squared_error', 'absolute_error', 'poisson']\n",
    "    },\n",
    "    'random_forest': {\n",
    "        'n_estimators': [10, 50, 100, 200],\n",
    "        'max_depth': [3, 5, 10, None],\n",
    "        'min_samples_split': [2, 5, 10]\n",
    "    },\n",
    "    'gradient_boosting': {\n",
    "        'n_estimators': [10, 50, 100, 200],\n",
    "        'max_depth': [3, 5, 10, None],\n",
    "        'min_samples_split': [2, 5, 10]\n",
    "    },\n",
    "    'hist_gradient_boosting': {\n",
    "        'max_iter': [100, 200, 500, 1000],\n",
    "        'max_depth': [3, 5, 10, None],\n",
    "        'min_samples_leaf': [10, 20, 50, 100, 200]\n",
    "    }\n",
    "}"
   ]
  },
  {
   "cell_type": "markdown",
   "metadata": {},
   "source": [
    "### KNN"
   ]
  },
  {
   "cell_type": "code",
   "execution_count": 22,
   "metadata": {},
   "outputs": [],
   "source": [
    "'''\n",
    "Paramètres clés de KNeighborsRegressor :\n",
    "    - n_neighbors: utiliser des nombres impaires pour éviter les égalités (3, 5, 7, ...)\n",
    "    - weights:\n",
    "        - uniform: tous les voisins contribuent de manière égale\n",
    "        - distance: les voisins les plus proches contribuent plus que les plus éloignés\n",
    "    - metrics:\n",
    "        - euclidean: distance standard en ligne droite\n",
    "        - manhattan: some des différences absolues (bien pour les données sous forme de grilles)\n",
    "        - minkowski: métrique de distance généralisée où l'on peut spécifier la p-norm\n",
    "'''\n",
    "\n",
    "def knn_search_cv():\n",
    "    '''\n",
    "    Effectue des grid search et des randomized search sur des modèles KNN pour déterminer\n",
    "    les meilleurs hyperparamètres\n",
    "    '''\n",
    "    model = KNeighborsRegressor()\n",
    "    grid_search_cv(model, param['knn'])\n",
    "    randomized_search_cv(model, param['knn'])\n",
    "\n",
    "def knn_cross_validation(n_neighbors, weights, metric):\n",
    "    '''\n",
    "    Effectue des cross validation sur des modèles KNN\n",
    "    '''\n",
    "    model = KNeighborsRegressor(n_neighbors=n_neighbors, weights=weights, metric=metric)\n",
    "    kfold_cv(model)\n",
    "    s_kf_cv(model)\n",
    "\n",
    "def knn(n_neighbors, weights, metric):\n",
    "    '''\n",
    "    Entraînement d'un modèle KNN\n",
    "    '''\n",
    "    model = KNeighborsRegressor(n_neighbors=n_neighbors, weights=weights, metric=metric)\n",
    "    model.fit(X_train_scaled, y_train_scaled)\n",
    "    return model\n",
    "\n",
    "def observation(n_neighbors, weights, metric):\n",
    "    '''\n",
    "    Prediction d'une valeur pour l'observation 0\n",
    "    '''\n",
    "    model = knn(n_neighbors=n_neighbors, weights=weights, metric=metric)\n",
    "\n",
    "    observation_index = 0  # Index de l'observation testée\n",
    "    observation = X_test_scaled[observation_index:observation_index + 1]\n",
    "\n",
    "    predicted_value = model.predict(observation)[0]\n",
    "\n",
    "    predicted_value_descaled = scaler_y.inverse_transform(predicted_value.reshape(-1, 1))\n",
    "\n",
    "    print(f\"Valeur prédite pour l'observation {observation_index} : {predicted_value_descaled}\")\n",
    "\n",
    "    distances, indices = model.kneighbors(observation)\n",
    "    neighbors_values = y_train.iloc[indices[0]]  # Utiliser .iloc si y_train est un DataFrame ou une Series Pandas\n",
    "    predicted_from_neighbors = neighbors_values.mean()\n",
    "    print(f\"Prédiction calculée à partir des voisins : {predicted_from_neighbors}\")"
   ]
  },
  {
   "cell_type": "code",
   "execution_count": 87,
   "metadata": {},
   "outputs": [
    {
     "name": "stdout",
     "output_type": "stream",
     "text": [
      "Meilleurs paramètres: {'metric': 'manhattan', 'n_neighbors': 9, 'weights': 'distance'}\n",
      "Meilleure Cross-Validation R²: 0.7573195225688107\n",
      "Meilleurs paramètres: {'weights': 'uniform', 'n_neighbors': 5, 'metric': 'manhattan'}\n",
      "Meilleure Cross-Validation R²: 0.745797277375843\n"
     ]
    },
    {
     "name": "stderr",
     "output_type": "stream",
     "text": [
      "c:\\Users\\tiger\\AppData\\Local\\Programs\\Python\\Python312\\Lib\\site-packages\\numpy\\ma\\core.py:2881: RuntimeWarning: invalid value encountered in cast\n",
      "  _data = np.array(data, dtype=dtype, copy=copy,\n"
     ]
    }
   ],
   "source": [
    "# Grid Search et Randomized Search sur KNN\n",
    "knn_search_cv()"
   ]
  },
  {
   "cell_type": "code",
   "execution_count": 88,
   "metadata": {},
   "outputs": [
    {
     "name": "stdout",
     "output_type": "stream",
     "text": [
      "k-fold cross-validation R²: 0.7676023514016275\n",
      "stratified k-fold cross-validation R²: 0.7635750639039071\n"
     ]
    }
   ],
   "source": [
    "# Cross validations sur KNN\n",
    "knn_cross_validation(n_neighbors=9, metric='manhattan', weights='distance')"
   ]
  },
  {
   "cell_type": "code",
   "execution_count": 204,
   "metadata": {},
   "outputs": [
    {
     "name": "stdout",
     "output_type": "stream",
     "text": [
      "R² score: 0.7934895545268196\n",
      "Mean Absolute Error score: \n",
      "0.05657737882900663\n",
      "Mean Squared Error score: \n",
      "0.008484564073142443\n",
      "Root Mean Squared Error score: \n",
      "0.09211169346582682\n"
     ]
    }
   ],
   "source": [
    "# Validation simple sur KNN\n",
    "r2_knn, mae_knn, mse_knn, rmse_knn = performances_model(knn(n_neighbors=9, metric='manhattan', weights='distance'))"
   ]
  },
  {
   "cell_type": "code",
   "execution_count": 171,
   "metadata": {},
   "outputs": [
    {
     "name": "stdout",
     "output_type": "stream",
     "text": [
      "Valeur prédite pour l'observation 0 : [[10070.33546203]]\n",
      "Prédiction calculée à partir des voisins : expenses    10171.0\n",
      "dtype: float64\n"
     ]
    }
   ],
   "source": [
    "observation(n_neighbors=9, metric='manhattan', weights='distance')"
   ]
  },
  {
   "cell_type": "markdown",
   "metadata": {},
   "source": [
    "### Régression Linéaire"
   ]
  },
  {
   "cell_type": "code",
   "execution_count": null,
   "metadata": {},
   "outputs": [],
   "source": [
    "'''\n",
    "Il n'y a pas de paramètres particulièrement importants pour la régression linéaire\n",
    "'''\n",
    "\n",
    "def logistic_regression_cross_validation():\n",
    "    '''\n",
    "    Effectue des cross validation sur des modèles de régression linéaire\n",
    "    '''\n",
    "    model = LinearRegression()\n",
    "    kfold_cv(model)\n",
    "    s_kf_cv(model)\n",
    "\n",
    "def logistic_regression():\n",
    "    '''\n",
    "    Entraînement d'un modèle de régression linéaire\n",
    "    '''\n",
    "    model = LinearRegression()\n",
    "    model.fit(X_train_scaled, y_train_scaled)\n",
    "    return model\n",
    "\n",
    "def model_coef_reglin():\n",
    "    '''\n",
    "    Calcul des coefficients du modèle de régression linéaire\n",
    "    '''\n",
    "    model = LinearRegression()\n",
    "    model.fit(X_train_scaled, y_train_scaled)\n",
    "    coef = model.coef_\n",
    "    return coef"
   ]
  },
  {
   "cell_type": "code",
   "execution_count": 91,
   "metadata": {},
   "outputs": [
    {
     "name": "stdout",
     "output_type": "stream",
     "text": [
      "k-fold cross-validation R²: 0.7391511163824289\n",
      "stratified k-fold cross-validation R²: 0.7343822976728644\n"
     ]
    }
   ],
   "source": [
    "# Cross validations sur la régression linéaire\n",
    "logistic_regression_cross_validation()"
   ]
  },
  {
   "cell_type": "code",
   "execution_count": 205,
   "metadata": {},
   "outputs": [
    {
     "name": "stdout",
     "output_type": "stream",
     "text": [
      "R² score: 0.7832074479614652\n",
      "Mean Absolute Error score: \n",
      "0.06836111605512334\n",
      "Mean Squared Error score: \n",
      "0.008907008525096117\n",
      "Root Mean Squared Error score: \n",
      "0.09437694911945457\n"
     ]
    }
   ],
   "source": [
    "# Validation simple sur la régression linéaire\n",
    "r2_reglin, mae_reglin, mse_reglin, rmse_reglin = performances_model(logistic_regression())"
   ]
  },
  {
   "cell_type": "code",
   "execution_count": null,
   "metadata": {},
   "outputs": [
    {
     "name": "stdout",
     "output_type": "stream",
     "text": [
      "Coefficient(s): [ 1.92595331e-01 -2.32520269e-03  2.10279838e-01  3.24331910e-02\n",
      "  3.85108679e-01  8.26115912e+12  8.26115912e+12  8.26115912e+12\n",
      "  8.26115912e+12]\n",
      "Index(['age', 'sex', 'bmi', 'children', 'smoker', 'region_northeast',\n",
      "       'region_northwest', 'region_southeast', 'region_southwest'],\n",
      "      dtype='object')\n"
     ]
    }
   ],
   "source": [
    "print(\"Coefficient(s):\", model_coef_reglin())\n",
    "print(X.columns)"
   ]
  },
  {
   "cell_type": "markdown",
   "metadata": {},
   "source": [
    "- Les coefficients de region sont extrêmement élevés, ce qui n'est pas normal.\n",
    "- En mettant region de côté, les coefficients les plus élevés sont age, bmi et smoker."
   ]
  },
  {
   "cell_type": "markdown",
   "metadata": {},
   "source": [
    "### SVM"
   ]
  },
  {
   "cell_type": "code",
   "execution_count": 179,
   "metadata": {},
   "outputs": [],
   "source": [
    "'''\n",
    "Paramètres clés de SVC :\n",
    "    - C : [0.01, 0.1, 1, 10, 100]\n",
    "    - kernel :\n",
    "        - linear : bien pour les données linéairement séparables\n",
    "        - rbf : choix populaire pour la plupart des datasets (kernel non-linéaire)\n",
    "        - poly : kernel polynomial (nécessite de gérer le paramètre degree)\n",
    "        - sigmoid : bien pour les données qui peuvent être séparées de manière non-linéaires, sans\n",
    "        pour autant qu'elles suivent des patterns radiaux ou polynomiaux\n",
    "    - epsilon : un epsilon élevé peut entraîner de l'overfitting, tandis qu'un epsilon bas peut entraîner\n",
    "    de l'underfitting ([0.001, 0.01, 0.1, 1, 10, 100])\n",
    "'''\n",
    "\n",
    "def svm_search_cv():\n",
    "    '''\n",
    "    Effectue des grid search et des randomized search sur des modèles SVM\n",
    "    pour déterminer les meilleurs hyperparamètres\n",
    "    '''\n",
    "    model = SVR()\n",
    "    grid_search_cv(model, param['svm'])\n",
    "    randomized_search_cv(model, param['svm'])\n",
    "\n",
    "def svm_cross_validation(C, kernel, epsilon):\n",
    "    '''\n",
    "    Effectue des cross validation sur des modèles SVM\n",
    "    '''\n",
    "    model = SVR(C=C, kernel=kernel, epsilon=epsilon)\n",
    "    kfold_cv(model)\n",
    "    s_kf_cv(model)\n",
    "\n",
    "def svm(C, kernel, epsilon):\n",
    "    '''\n",
    "    Entraînement d'un modèle SVM\n",
    "    '''\n",
    "    model = SVR(C=C, kernel=kernel, epsilon=epsilon)\n",
    "    model.fit(X_train_scaled, y_train_scaled)\n",
    "    return model\n",
    "\n",
    "def model_coef_svm(C, kernel, epsilon):\n",
    "    '''\n",
    "    Calcul des coefficients du modèle SVM\n",
    "    '''\n",
    "    model = SVR(C=C, kernel=kernel, epsilon=epsilon)\n",
    "    model.fit(X_train_scaled, y_train_scaled)\n",
    "    coef = model.coef_\n",
    "    return coef"
   ]
  },
  {
   "cell_type": "code",
   "execution_count": 101,
   "metadata": {},
   "outputs": [
    {
     "name": "stdout",
     "output_type": "stream",
     "text": [
      "Meilleurs paramètres: {'C': 100, 'epsilon': 0.01, 'kernel': 'poly'}\n",
      "Meilleure Cross-Validation R²: 0.818260957126489\n",
      "Meilleurs paramètres: {'kernel': 'rbf', 'epsilon': 0.01, 'C': 1}\n",
      "Meilleure Cross-Validation R²: 0.8172928225661289\n"
     ]
    }
   ],
   "source": [
    "# Grid Search et Randomized Search sur SVM\n",
    "svm_search_cv()"
   ]
  },
  {
   "cell_type": "code",
   "execution_count": 102,
   "metadata": {},
   "outputs": [
    {
     "name": "stdout",
     "output_type": "stream",
     "text": [
      "k-fold cross-validation R²: 0.8247816271988573\n",
      "stratified k-fold cross-validation R²: 0.8124457497953097\n"
     ]
    }
   ],
   "source": [
    "# Cross validations sur SVM\n",
    "svm_cross_validation(C=100, kernel='poly', epsilon=0.01)"
   ]
  },
  {
   "cell_type": "code",
   "execution_count": 206,
   "metadata": {},
   "outputs": [
    {
     "name": "stdout",
     "output_type": "stream",
     "text": [
      "R² score: 0.8523502012282447\n",
      "Mean Absolute Error score: \n",
      "0.03573427333412202\n",
      "Mean Squared Error score: \n",
      "0.006066250911401187\n",
      "Root Mean Squared Error score: \n",
      "0.0778861406888362\n"
     ]
    }
   ],
   "source": [
    "# Validation simple sur SVM\n",
    "r2_svm, mae_svm, mse_svm, rmse_svm = performances_model(svm(C=100, kernel='poly', epsilon=0.01))"
   ]
  },
  {
   "cell_type": "code",
   "execution_count": 185,
   "metadata": {},
   "outputs": [
    {
     "data": {
      "text/plain": [
       "array([[ 0.19956606,  0.00600348,  0.02994851,  0.03797771,  0.50432354,\n",
       "         0.00658305,  0.0014687 , -0.00355331, -0.00449845]])"
      ]
     },
     "metadata": {},
     "output_type": "display_data"
    },
    {
     "data": {
      "text/plain": [
       "Index(['age', 'sex', 'bmi', 'children', 'smoker', 'region_northeast',\n",
       "       'region_northwest', 'region_southeast', 'region_southwest'],\n",
       "      dtype='object')"
      ]
     },
     "metadata": {},
     "output_type": "display_data"
    }
   ],
   "source": [
    "display(model_coef_svm(C=100, kernel='linear', epsilon=0.01))\n",
    "display(X.columns)"
   ]
  },
  {
   "cell_type": "markdown",
   "metadata": {},
   "source": [
    "Les coefficients les plus élevés sont smoker et age."
   ]
  },
  {
   "cell_type": "markdown",
   "metadata": {},
   "source": [
    "### Decision Tree"
   ]
  },
  {
   "cell_type": "code",
   "execution_count": null,
   "metadata": {},
   "outputs": [],
   "source": [
    "'''\n",
    "Paramètres clés de Decision Tree :\n",
    "    - max_depth : limite de profondeur de l'arbre où des valeurs basses réduisent l'overfitting\n",
    "    mais peut entraîner de l'underfitting ([3, 5, 10, None])\n",
    "    - min_samples_split : de plus grandes valeurs nécessitent plus de données pour créer des\n",
    "    splits, réduisant l'overfitting ([2, 5, 10])\n",
    "    - criterion :\n",
    "        - squared_error : utilise le MSE\n",
    "        - absolute_error : utilise la MAE\n",
    "        - poisson : utilise la régression de Poisson (pour les cibles non-négatives)\n",
    "'''\n",
    "\n",
    "def decision_tree_search_cv():\n",
    "    '''\n",
    "    Effectue des grid search et des randomized search sur des modèles Decision Tree\n",
    "    pour déterminer les meilleurs hyperparamètres\n",
    "    '''\n",
    "    model = DecisionTreeRegressor()\n",
    "    grid_search_cv(model, param['decision_tree'])\n",
    "    randomized_search_cv(model, param['decision_tree'])\n",
    "\n",
    "def decision_tree_cross_validation(max_depth, min_samples_split, criterion):\n",
    "    '''\n",
    "    Effectue des cross validation sur des modèles Decision Tree\n",
    "    '''\n",
    "    model = DecisionTreeRegressor(max_depth=max_depth, min_samples_split=min_samples_split, criterion=criterion)\n",
    "    kfold_cv(model)\n",
    "    s_kf_cv(model)\n",
    "\n",
    "def decision_tree(max_depth, min_samples_split, criterion):\n",
    "    '''\n",
    "    Entraînement d'un modèle Decision Tree\n",
    "    '''\n",
    "    model = DecisionTreeRegressor(max_depth=max_depth, min_samples_split=min_samples_split, criterion=criterion)\n",
    "    model.fit(X_train_scaled, y_train_scaled)\n",
    "    return model\n",
    "\n",
    "def importance_tree(max_depth, min_samples_split, criterion):\n",
    "    '''\n",
    "    Affiche l'importance des caractéristiques avec Decision Tree\n",
    "    '''\n",
    "    model = DecisionTreeRegressor(max_depth=max_depth, min_samples_split=min_samples_split, criterion=criterion)\n",
    "    model.fit(X_train_scaled, y_train_scaled)\n",
    "\n",
    "    feature_names = X_train.columns\n",
    "    importances = model.feature_importances_\n",
    "    plt.figure(figsize=(10, 6))\n",
    "    plt.barh(feature_names, importances)\n",
    "    plt.xlabel(\"Importance des caractéristiques\")\n",
    "    plt.title(\"Importance des caractéristiques Decision Tree\")\n",
    "    plt.show()"
   ]
  },
  {
   "cell_type": "code",
   "execution_count": 106,
   "metadata": {},
   "outputs": [
    {
     "name": "stdout",
     "output_type": "stream",
     "text": [
      "Meilleurs paramètres: {'criterion': 'absolute_error', 'max_depth': 5, 'min_samples_split': 2}\n",
      "Meilleure Cross-Validation R²: 0.838073160366003\n",
      "Meilleurs paramètres: {'min_samples_split': 5, 'max_depth': 5, 'criterion': 'absolute_error'}\n",
      "Meilleure Cross-Validation R²: 0.8381160539078489\n"
     ]
    }
   ],
   "source": [
    "# Grid Search et Randomized Search sur Decision Tree\n",
    "decision_tree_search_cv()"
   ]
  },
  {
   "cell_type": "code",
   "execution_count": 107,
   "metadata": {},
   "outputs": [
    {
     "name": "stdout",
     "output_type": "stream",
     "text": [
      "k-fold cross-validation R²: 0.83989928647063\n",
      "stratified k-fold cross-validation R²: 0.8365040632734182\n"
     ]
    }
   ],
   "source": [
    "# Cross validations sur Decision Tree\n",
    "decision_tree_cross_validation(max_depth=5, min_samples_split=5, criterion='absolute_error')"
   ]
  },
  {
   "cell_type": "code",
   "execution_count": 207,
   "metadata": {},
   "outputs": [
    {
     "name": "stdout",
     "output_type": "stream",
     "text": [
      "R² score: 0.8598453620648664\n",
      "Mean Absolute Error score: \n",
      "0.03191035051839758\n",
      "Mean Squared Error score: \n",
      "0.005758309237017054\n",
      "Root Mean Squared Error score: \n",
      "0.07588352414732104\n"
     ]
    }
   ],
   "source": [
    "# Validation simple sur Decision Tree\n",
    "r2_tree, mae_tree, mse_tree, rmse_tree = performances_model(decision_tree(max_depth=5, min_samples_split=5, criterion='absolute_error'))"
   ]
  },
  {
   "cell_type": "code",
   "execution_count": null,
   "metadata": {},
   "outputs": [
    {
     "data": {
      "image/png": "[encoded data removed]",
      "text/plain": [
       "<Figure size 1000x600 with 1 Axes>"
      ]
     },
     "metadata": {},
     "output_type": "display_data"
    }
   ],
   "source": [
    "importance_tree(max_depth=5, min_samples_split=5, criterion='absolute_error')"
   ]
  },
  {
   "cell_type": "markdown",
   "metadata": {},
   "source": [
    "Les variables les plus importantes sont smoker, age et bmi"
   ]
  },
  {
   "cell_type": "markdown",
   "metadata": {},
   "source": [
    "### Random Forest"
   ]
  },
  {
   "cell_type": "code",
   "execution_count": null,
   "metadata": {},
   "outputs": [],
   "source": [
    "'''\n",
    "Paramètres clés de Random Forest :\n",
    "    - n_estimators : [10, 50, 100, 200] pour de très grands dataset, il est possible de monter jusqu'à 500\n",
    "    - max_depth : limite de profondeur de l'arbre où des valeurs basses réduisent l'overfitting\n",
    "    mais peut entraîner de l'underfitting ([3, 5, 10, None])\n",
    "    - min_samples_split : de plus grandes valeurs nécessitent plus de données pour créer des\n",
    "    splits, réduisant l'overfitting ([2, 5, 10])\n",
    "'''\n",
    "\n",
    "def random_forest_search_cv():\n",
    "    '''\n",
    "    Effectue des grid search et des randomized search sur des modèles Random Forest\n",
    "    pour déterminer les meilleurs hyperparamètres\n",
    "    '''\n",
    "    model = RandomForestRegressor()\n",
    "    grid_search_cv(model, param['random_forest'])\n",
    "    randomized_search_cv(model, param['random_forest'])\n",
    "\n",
    "def random_forest_cross_validation(n_estimators, max_depth, min_samples_split):\n",
    "    '''\n",
    "    Effectue des cross validation sur des modèles Random Forest\n",
    "    '''\n",
    "    model = RandomForestRegressor(n_estimators=n_estimators, max_depth=max_depth, min_samples_split=min_samples_split)\n",
    "    kfold_cv(model)\n",
    "    s_kf_cv(model)\n",
    "\n",
    "def random_forest(n_estimators, max_depth, min_samples_split):\n",
    "    '''\n",
    "    Entraînement d'un modèle Random Forest\n",
    "    '''\n",
    "    model = RandomForestRegressor(n_estimators=n_estimators, max_depth=max_depth, min_samples_split=min_samples_split)\n",
    "    model.fit(X_train_scaled, y_train_scaled)\n",
    "    return model\n",
    "\n",
    "def importance_forest(n_estimators, max_depth, min_samples_split):\n",
    "    '''\n",
    "    Affiche l'importance des caractéristiques avec Random Forest\n",
    "    '''\n",
    "    model = RandomForestRegressor(n_estimators=n_estimators, max_depth=max_depth, min_samples_split=min_samples_split)\n",
    "    model.fit(X_train_scaled, y_train_scaled)\n",
    "\n",
    "    feature_names = X_train.columns\n",
    "    importances = model.feature_importances_\n",
    "    plt.figure(figsize=(10, 6))\n",
    "    plt.barh(feature_names, importances)\n",
    "    plt.xlabel(\"Importance des caractéristiques\")\n",
    "    plt.title(\"Importance des caractéristiques Random Forest\")\n",
    "    plt.show()"
   ]
  },
  {
   "cell_type": "code",
   "execution_count": 110,
   "metadata": {},
   "outputs": [
    {
     "name": "stdout",
     "output_type": "stream",
     "text": [
      "Meilleurs paramètres: {'max_depth': 5, 'min_samples_split': 5, 'n_estimators': 100}\n",
      "Meilleure Cross-Validation R²: 0.8459843576349627\n",
      "Meilleurs paramètres: {'n_estimators': 200, 'min_samples_split': 10, 'max_depth': 3}\n",
      "Meilleure Cross-Validation R²: 0.8455321756772667\n"
     ]
    }
   ],
   "source": [
    "# Grid Search et Randomized Search sur Random Forest\n",
    "random_forest_search_cv()"
   ]
  },
  {
   "cell_type": "code",
   "execution_count": 111,
   "metadata": {},
   "outputs": [
    {
     "name": "stdout",
     "output_type": "stream",
     "text": [
      "k-fold cross-validation R²: 0.8526265604745031\n",
      "stratified k-fold cross-validation R²: 0.8517378812962901\n"
     ]
    }
   ],
   "source": [
    "# Cross validations sur Random Forest\n",
    "random_forest_cross_validation(n_estimators=100, max_depth=5, min_samples_split=5)"
   ]
  },
  {
   "cell_type": "code",
   "execution_count": 208,
   "metadata": {},
   "outputs": [
    {
     "name": "stdout",
     "output_type": "stream",
     "text": [
      "R² score: 0.8742739282767944\n",
      "Mean Absolute Error score: \n",
      "0.04115211446022113\n",
      "Mean Squared Error score: \n",
      "0.005165505835580492\n",
      "Root Mean Squared Error score: \n",
      "0.07187145355132657\n"
     ]
    }
   ],
   "source": [
    "# Validation simple sur Random Forest\n",
    "r2_forest, mae_forest, mse_forest, rmse_forest = performances_model(random_forest(n_estimators=100, max_depth=5, min_samples_split=5))"
   ]
  },
  {
   "cell_type": "code",
   "execution_count": 177,
   "metadata": {},
   "outputs": [
    {
     "data": {
      "image/png": "[encoded data removed]",
      "text/plain": [
       "<Figure size 1000x600 with 1 Axes>"
      ]
     },
     "metadata": {},
     "output_type": "display_data"
    }
   ],
   "source": [
    "importance_forest(n_estimators=100, max_depth=5, min_samples_split=5)"
   ]
  },
  {
   "cell_type": "markdown",
   "metadata": {},
   "source": [
    "Les variables les plus importantes sont smoker (de loin), bmi et age."
   ]
  },
  {
   "cell_type": "markdown",
   "metadata": {},
   "source": [
    "### Gradient Boosting"
   ]
  },
  {
   "cell_type": "code",
   "execution_count": 186,
   "metadata": {},
   "outputs": [],
   "source": [
    "'''\n",
    "Paramètres clés de Gradient Boosting :\n",
    "    - n_estimators : [10, 50, 100, 200] pour de très grands dataset, il est possible de monter jusqu'à 500\n",
    "    - max_depth : limite de profondeur de l'arbre où des valeurs basses réduisent l'overfitting\n",
    "    mais peut entraîner de l'underfitting ([3, 5, 10, None])\n",
    "    - min_samples_split : de plus grandes valeurs nécessitent plus de données pour créer des\n",
    "    splits, réduisant l'overfitting ([2, 5, 10])\n",
    "'''\n",
    "\n",
    "def gradient_boosting_search_cv():\n",
    "    '''\n",
    "    Effectue des grid search et des randomized search sur des modèles Gradient Boosting\n",
    "    pour déterminer les meilleurs hyperparamètres\n",
    "    '''\n",
    "    model = GradientBoostingRegressor()\n",
    "    grid_search_cv(model, param['gradient_boosting'])\n",
    "    randomized_search_cv(model, param['gradient_boosting'])\n",
    "\n",
    "def gradient_boosting_cross_validation(n_estimators, max_depth, min_samples_split):\n",
    "    '''\n",
    "    Effectue des cross validation sur des modèles Gradient Boosting\n",
    "    '''\n",
    "    model = GradientBoostingRegressor(n_estimators=n_estimators, max_depth=max_depth, min_samples_split=min_samples_split)\n",
    "    kfold_cv(model)\n",
    "    s_kf_cv(model)\n",
    "\n",
    "def gradient_boosting(n_estimators, max_depth, min_samples_split):\n",
    "    '''\n",
    "    Entraînement d'un modèle Gradient Boosting\n",
    "    '''\n",
    "    model = GradientBoostingRegressor(n_estimators=n_estimators, max_depth=max_depth, min_samples_split=min_samples_split)\n",
    "    model.fit(X_train_scaled, y_train_scaled)\n",
    "    return model\n",
    "\n",
    "def importance_gradboost(n_estimators, max_depth, min_samples_split):\n",
    "    '''\n",
    "    Affiche l'importance des caractéristiques avec Gradient Boosting\n",
    "    '''\n",
    "    model = GradientBoostingRegressor(n_estimators=n_estimators, max_depth=max_depth, min_samples_split=min_samples_split)\n",
    "    model.fit(X_train_scaled, y_train_scaled)\n",
    "\n",
    "    feature_names = X_train.columns\n",
    "    importances = model.feature_importances_\n",
    "    plt.figure(figsize=(10, 6))\n",
    "    plt.barh(feature_names, importances)\n",
    "    plt.xlabel(\"Importance des caractéristiques\")\n",
    "    plt.title(\"Importance des caractéristiques Gradient Boosting\")\n",
    "    plt.show()"
   ]
  },
  {
   "cell_type": "code",
   "execution_count": 114,
   "metadata": {},
   "outputs": [
    {
     "name": "stdout",
     "output_type": "stream",
     "text": [
      "Meilleurs paramètres: {'max_depth': 3, 'min_samples_split': 10, 'n_estimators': 50}\n",
      "Meilleure Cross-Validation R²: 0.8482011942236077\n",
      "Meilleurs paramètres: {'n_estimators': 100, 'min_samples_split': 5, 'max_depth': 5}\n",
      "Meilleure Cross-Validation R²: 0.8130207473346491\n"
     ]
    }
   ],
   "source": [
    "# Grid Search et Randomized Search sur Gradient Boosting\n",
    "gradient_boosting_search_cv()"
   ]
  },
  {
   "cell_type": "code",
   "execution_count": 115,
   "metadata": {},
   "outputs": [
    {
     "name": "stdout",
     "output_type": "stream",
     "text": [
      "k-fold cross-validation R²: 0.8562324540911875\n",
      "stratified k-fold cross-validation R²: 0.85583790172216\n"
     ]
    }
   ],
   "source": [
    "# Cross validations sur Gradient Boosting\n",
    "gradient_boosting_cross_validation(n_estimators=50, max_depth=3, min_samples_split=10)"
   ]
  },
  {
   "cell_type": "code",
   "execution_count": 209,
   "metadata": {},
   "outputs": [
    {
     "name": "stdout",
     "output_type": "stream",
     "text": [
      "R² score: 0.8800331434666513\n",
      "Mean Absolute Error score: \n",
      "0.0398217456308346\n",
      "Mean Squared Error score: \n",
      "0.004928886180931098\n",
      "Root Mean Squared Error score: \n",
      "0.07020602667101378\n"
     ]
    }
   ],
   "source": [
    "# Validation simple sur Gradient Boosting\n",
    "r2_gradboost, mae_gradboost, mse_gradboost, rmse_gradboost = performances_model(gradient_boosting(n_estimators=50, max_depth=3, min_samples_split=10))"
   ]
  },
  {
   "cell_type": "code",
   "execution_count": 187,
   "metadata": {},
   "outputs": [
    {
     "data": {
      "image/png": "[encoded data removed]",
      "text/plain": [
       "<Figure size 1000x600 with 1 Axes>"
      ]
     },
     "metadata": {},
     "output_type": "display_data"
    }
   ],
   "source": [
    "importance_gradboost(n_estimators=50, max_depth=3, min_samples_split=10)"
   ]
  },
  {
   "cell_type": "markdown",
   "metadata": {},
   "source": [
    "Les caractéristiques les plus importantes sont smoker (de loin), bmi et age."
   ]
  },
  {
   "cell_type": "markdown",
   "metadata": {},
   "source": [
    "### Hist Gradient Boosting"
   ]
  },
  {
   "cell_type": "code",
   "execution_count": 201,
   "metadata": {},
   "outputs": [],
   "source": [
    "'''\n",
    "Paramètres clés de Hist Gradient Boosting :\n",
    "    - max_iter :  [100, 200, 500, 1000] pour de très grands dataset, il est possible de monter jusqu'à 500\n",
    "    - max_depth : limite de profondeur de l'arbre où des valeurs basses réduisent l'overfitting\n",
    "    mais peut entraîner de l'underfitting ([3, 5, 10, None])\n",
    "    - min_samples_leaf : valeurs plus élevées réduisent l'overfitting ([10, 20, 50, 100, 200])\n",
    "'''\n",
    "\n",
    "def hist_gradient_boosting_search_cv():\n",
    "    '''\n",
    "    Effectue des grid search et des randomized search sur des modèles Hist Gradient Boosting\n",
    "    pour déterminer les meilleurs hyperparamètres\n",
    "    '''\n",
    "    model = HistGradientBoostingRegressor()\n",
    "    grid_search_cv(model, param['hist_gradient_boosting'])\n",
    "    randomized_search_cv(model, param['hist_gradient_boosting'])\n",
    "\n",
    "def hist_gradient_boosting_cross_validation(max_iter, max_depth, min_samples_leaf):\n",
    "    '''\n",
    "    Effectue des cross validation sur des modèles Hist Gradient Boosting\n",
    "    '''\n",
    "    model = HistGradientBoostingRegressor(max_iter=max_iter, max_depth=max_depth, min_samples_leaf=min_samples_leaf)\n",
    "    kfold_cv(model)\n",
    "    s_kf_cv(model)\n",
    "\n",
    "def hist_gradient_boosting(max_iter, max_depth, min_samples_leaf):\n",
    "    '''\n",
    "    Entraînement d'un modèle Hist Gradient Boosting\n",
    "    '''\n",
    "    model = HistGradientBoostingRegressor(max_iter=max_iter, max_depth=max_depth, min_samples_leaf=min_samples_leaf)\n",
    "    model.fit(X_train_scaled, y_train_scaled)\n",
    "    return model\n",
    "\n",
    "def importance_histgradboost(max_iter, max_depth, min_samples_leaf):\n",
    "    model = hist_gradient_boosting(max_iter, max_depth, min_samples_leaf)\n",
    "    perm_importance = permutation_importance(model, X_test_scaled, y_test_scaled, n_repeats=10, random_state=42)\n",
    "\n",
    "    # Print results\n",
    "    for i, score in enumerate(perm_importance.importances_mean):\n",
    "        print(f\"Feature {i}: Importance = {score}\")"
   ]
  },
  {
   "cell_type": "code",
   "execution_count": 118,
   "metadata": {},
   "outputs": [
    {
     "name": "stdout",
     "output_type": "stream",
     "text": [
      "Meilleurs paramètres: {'max_depth': 3, 'max_iter': 100, 'min_samples_leaf': 20}\n",
      "Meilleure Cross-Validation R²: 0.847793748084273\n",
      "Meilleurs paramètres: {'min_samples_leaf': 100, 'max_iter': 1000, 'max_depth': 3}\n",
      "Meilleure Cross-Validation R²: 0.8294237220224308\n"
     ]
    }
   ],
   "source": [
    "# Grid Search et Randomized Search sur Hist Gradient Boosting\n",
    "hist_gradient_boosting_search_cv()"
   ]
  },
  {
   "cell_type": "code",
   "execution_count": 119,
   "metadata": {},
   "outputs": [
    {
     "name": "stdout",
     "output_type": "stream",
     "text": [
      "k-fold cross-validation R²: 0.8563833413465576\n",
      "stratified k-fold cross-validation R²: 0.8549448339859922\n"
     ]
    }
   ],
   "source": [
    "# Cross validations sur Hist Gradient Boosting\n",
    "hist_gradient_boosting_cross_validation(max_iter=100, max_depth=3, min_samples_leaf=20)"
   ]
  },
  {
   "cell_type": "code",
   "execution_count": 210,
   "metadata": {},
   "outputs": [
    {
     "name": "stdout",
     "output_type": "stream",
     "text": [
      "R² score: 0.8777099143604845\n",
      "Mean Absolute Error score: \n",
      "0.03993159993758133\n",
      "Mean Squared Error score: \n",
      "0.005024336975987472\n",
      "Root Mean Squared Error score: \n",
      "0.07088255762871055\n"
     ]
    }
   ],
   "source": [
    "# Validation simple sur Hist Gradient Boosting\n",
    "r2_histgradboost, mae_histgradboost, mse_histgradboost, rmse_histgradboost = performances_model(hist_gradient_boosting(max_iter=100, max_depth=3, min_samples_leaf=20))"
   ]
  },
  {
   "cell_type": "code",
   "execution_count": 202,
   "metadata": {},
   "outputs": [
    {
     "name": "stdout",
     "output_type": "stream",
     "text": [
      "Feature 0: Importance = 0.18145393707528037\n",
      "Feature 1: Importance = -0.0016647308388817784\n",
      "Feature 2: Importance = 0.2504434782169547\n",
      "Feature 3: Importance = 0.01269987872369931\n",
      "Feature 4: Importance = 1.3846481561857698\n",
      "Feature 5: Importance = -0.00012660423617255612\n",
      "Feature 6: Importance = 0.00019670631586329312\n",
      "Feature 7: Importance = 0.00013438805340932892\n",
      "Feature 8: Importance = 0.0004690635886863692\n"
     ]
    },
    {
     "data": {
      "text/plain": [
       "Index(['age', 'sex', 'bmi', 'children', 'smoker', 'region_northeast',\n",
       "       'region_northwest', 'region_southeast', 'region_southwest'],\n",
       "      dtype='object')"
      ]
     },
     "metadata": {},
     "output_type": "display_data"
    }
   ],
   "source": [
    "importance_histgradboost(max_iter=100, max_depth=3, min_samples_leaf=20)\n",
    "display(X_train.columns)"
   ]
  },
  {
   "cell_type": "markdown",
   "metadata": {},
   "source": [
    "Les caractéristiques les plus importantes sont smoker, bmi et age."
   ]
  },
  {
   "cell_type": "markdown",
   "metadata": {},
   "source": [
    "## 4. Interprétation des résultats"
   ]
  },
  {
   "cell_type": "code",
   "execution_count": null,
   "metadata": {},
   "outputs": [
    {
     "data": {
      "text/html": [
       "<div>\n",
       "<style scoped>\n",
       "    .dataframe tbody tr th:only-of-type {\n",
       "        vertical-align: middle;\n",
       "    }\n",
       "\n",
       "    .dataframe tbody tr th {\n",
       "        vertical-align: top;\n",
       "    }\n",
       "\n",
       "    .dataframe thead th {\n",
       "        text-align: right;\n",
       "    }\n",
       "</style>\n",
       "<table border=\"1\" class=\"dataframe\">\n",
       "  <thead>\n",
       "    <tr style=\"text-align: right;\">\n",
       "      <th></th>\n",
       "      <th>R²</th>\n",
       "      <th>MAE</th>\n",
       "      <th>MSE</th>\n",
       "      <th>RMSE</th>\n",
       "    </tr>\n",
       "    <tr>\n",
       "      <th>model_id</th>\n",
       "      <th></th>\n",
       "      <th></th>\n",
       "      <th></th>\n",
       "      <th></th>\n",
       "    </tr>\n",
       "  </thead>\n",
       "  <tbody>\n",
       "    <tr>\n",
       "      <th>KNN</th>\n",
       "      <td>0.793490</td>\n",
       "      <td>0.056577</td>\n",
       "      <td>0.008485</td>\n",
       "      <td>0.092112</td>\n",
       "    </tr>\n",
       "    <tr>\n",
       "      <th>Régression Linéaire</th>\n",
       "      <td>0.783207</td>\n",
       "      <td>0.068361</td>\n",
       "      <td>0.008907</td>\n",
       "      <td>0.094377</td>\n",
       "    </tr>\n",
       "    <tr>\n",
       "      <th>SVM</th>\n",
       "      <td>0.852350</td>\n",
       "      <td>0.035734</td>\n",
       "      <td>0.006066</td>\n",
       "      <td>0.077886</td>\n",
       "    </tr>\n",
       "    <tr>\n",
       "      <th>Decision Tree</th>\n",
       "      <td>0.859845</td>\n",
       "      <td>0.031910</td>\n",
       "      <td>0.005758</td>\n",
       "      <td>0.075884</td>\n",
       "    </tr>\n",
       "    <tr>\n",
       "      <th>Random Forest</th>\n",
       "      <td>0.874274</td>\n",
       "      <td>0.041152</td>\n",
       "      <td>0.005166</td>\n",
       "      <td>0.071871</td>\n",
       "    </tr>\n",
       "    <tr>\n",
       "      <th>Gradient Boosting</th>\n",
       "      <td>0.880033</td>\n",
       "      <td>0.039822</td>\n",
       "      <td>0.004929</td>\n",
       "      <td>0.070206</td>\n",
       "    </tr>\n",
       "    <tr>\n",
       "      <th>Hist Gradient Boosting</th>\n",
       "      <td>0.877710</td>\n",
       "      <td>0.039932</td>\n",
       "      <td>0.005024</td>\n",
       "      <td>0.070883</td>\n",
       "    </tr>\n",
       "  </tbody>\n",
       "</table>\n",
       "</div>"
      ],
      "text/plain": [
       "                              R²       MAE       MSE      RMSE\n",
       "model_id                                                      \n",
       "KNN                     0.793490  0.056577  0.008485  0.092112\n",
       "Régression Linéaire     0.783207  0.068361  0.008907  0.094377\n",
       "SVM                     0.852350  0.035734  0.006066  0.077886\n",
       "Decision Tree           0.859845  0.031910  0.005758  0.075884\n",
       "Random Forest           0.874274  0.041152  0.005166  0.071871\n",
       "Gradient Boosting       0.880033  0.039822  0.004929  0.070206\n",
       "Hist Gradient Boosting  0.877710  0.039932  0.005024  0.070883"
      ]
     },
     "metadata": {},
     "output_type": "display_data"
    }
   ],
   "source": [
    "# Tableau de comparaison des métriques\n",
    "result_table = {\n",
    "    'model_id': ['KNN', 'Régression Linéaire', 'SVM', 'Decision Tree', 'Random Forest', 'Gradient Boosting', 'Hist Gradient Boosting'],\n",
    "    'R²': [r2_knn, r2_reglin, r2_svm, r2_tree, r2_forest, r2_gradboost, r2_histgradboost],\n",
    "    'MAE': [mae_knn, mae_reglin, mae_svm, mae_tree, mae_forest, mae_gradboost, mae_histgradboost],\n",
    "    'MSE': [mse_knn, mse_reglin, mse_svm, mse_tree, mse_forest, mse_gradboost, mse_histgradboost],\n",
    "    'RMSE': [rmse_knn, rmse_reglin, rmse_svm, rmse_tree, rmse_forest, rmse_gradboost, rmse_histgradboost]\n",
    "}\n",
    "\n",
    "df_result = pd.DataFrame(result_table).set_index('model_id')\n",
    "\n",
    "display(df_result)"
   ]
  },
  {
   "cell_type": "code",
   "execution_count": null,
   "metadata": {},
   "outputs": [
    {
     "name": "stdout",
     "output_type": "stream",
     "text": [
      "Le modèle Gradient Boosting a la meilleure R² : 0.8800331434666513\n",
      "Le modèle Decision Tree a la meilleure MAE : 0.03191035051839758\n",
      "Le modèle Gradient Boosting a la meilleure MSE : 0.004928886180931098\n",
      "Le modèle Gradient Boosting a la meilleure RMSE : 0.07020602667101378\n"
     ]
    }
   ],
   "source": [
    "# Détermination des meilleurs résultats\n",
    "meilleure_r2 = df_result['R²'].max()\n",
    "meilleur_model_r2 = df_result[df_result['R²'] == meilleure_r2].index[0]\n",
    "print(f'Le modèle {meilleur_model_r2} a la meilleure R² : {meilleure_r2}')\n",
    "\n",
    "meilleure_mae = df_result['MAE'].min()\n",
    "meilleur_model_mae = df_result[df_result['MAE'] == meilleure_mae].index[0]\n",
    "print(f'Le modèle {meilleur_model_mae} a la meilleure MAE : {meilleure_mae}')\n",
    "\n",
    "meilleure_mse = df_result['MSE'].min()\n",
    "meilleur_model_mse = df_result[df_result['MSE'] == meilleure_mse].index[0]\n",
    "print(f'Le modèle {meilleur_model_mse} a la meilleure MSE : {meilleure_mse}')\n",
    "\n",
    "meilleure_rmse = df_result['RMSE'].min()\n",
    "meilleur_model_rmse = df_result[df_result['RMSE'] == meilleure_rmse].index[0]\n",
    "print(f'Le modèle {meilleur_model_rmse} a la meilleure RMSE : {meilleure_rmse}')"
   ]
  },
  {
   "cell_type": "markdown",
   "metadata": {},
   "source": [
    "Le modèle le plus performant dans le contexte actuel est le Gradient Boosting."
   ]
  },
  {
   "cell_type": "code",
   "execution_count": 214,
   "metadata": {},
   "outputs": [
    {
     "name": "stdout",
     "output_type": "stream",
     "text": [
      "Différence entre MSE et MAE (plus le score est proche de 0, mieux c'est) : 0.0348928594499035\n",
      "Différence entre MSE et R² (plus le score est proche de 1, mieux c'est) : 0.8751042572857202\n",
      "Différence entre MAE et R² (plus le score est proche de 1, mieux c'est) : 0.8402113978358167\n"
     ]
    }
   ],
   "source": [
    "# Comparaison des métriques de Gradient Boosting\n",
    "difference_mse_mae = mae_gradboost - mse_gradboost\n",
    "difference_mse_r2 = r2_gradboost - mse_gradboost\n",
    "difference_mae_r2 = r2_gradboost - mae_gradboost\n",
    "\n",
    "print(f\"Différence entre MSE et MAE (plus le score est proche de 0, mieux c'est) : {difference_mse_mae}\")\n",
    "print(f\"Différence entre MSE et R² (plus le score est proche de 1, mieux c'est) : {difference_mse_r2}\")\n",
    "print(f\"Différence entre MAE et R² (plus le score est proche de 1, mieux c'est) : {difference_mae_r2}\")"
   ]
  },
  {
   "cell_type": "markdown",
   "metadata": {},
   "source": [
    "Peu d'erreurs importantes sur les prédictions avec Gradient Boosting."
   ]
  },
  {
   "cell_type": "markdown",
   "metadata": {},
   "source": [
    "Gradien Boosting est donc le modèle le plus performant et le plus robuste."
   ]
  },
  {
   "cell_type": "markdown",
   "metadata": {},
   "source": [
    "## 5. Sauvegarde et utilisation du modèle retenu"
   ]
  },
  {
   "cell_type": "markdown",
   "metadata": {},
   "source": [
    "### Sauvegarde du modèle"
   ]
  },
  {
   "cell_type": "code",
   "execution_count": 20,
   "metadata": {},
   "outputs": [
    {
     "name": "stderr",
     "output_type": "stream",
     "text": [
      "c:\\Users\\tiger\\OneDrive\\Documents\\GitHub\\medical_expenses_manager\\.venv\\Lib\\site-packages\\sklearn\\ensemble\\_gb.py:672: DataConversionWarning: A column-vector y was passed when a 1d array was expected. Please change the shape of y to (n_samples, ), for example using ravel().\n",
      "  y = column_or_1d(y, warn=True)  # TODO: Is this still required?\n"
     ]
    },
    {
     "data": {
      "text/plain": [
       "['gradient_boosting_model.joblib']"
      ]
     },
     "execution_count": 20,
     "metadata": {},
     "output_type": "execute_result"
    }
   ],
   "source": [
    "import joblib\n",
    "\n",
    "model = GradientBoostingRegressor(n_estimators=50, max_depth=3, min_samples_split=10)\n",
    "model.fit(X_train, y_train)\n",
    "\n",
    "joblib.dump(model, 'gradient_boosting_model.joblib')"
   ]
  },
  {
   "cell_type": "markdown",
   "metadata": {},
   "source": [
    "### Chargement et utilisation du modèle"
   ]
  },
  {
   "cell_type": "code",
   "execution_count": 21,
   "metadata": {},
   "outputs": [],
   "source": [
    "# Chargement du modèle\n",
    "loaded_model = joblib.load('gradient_boosting_model.joblib')"
   ]
  },
  {
   "cell_type": "code",
   "execution_count": 27,
   "metadata": {},
   "outputs": [],
   "source": [
    "# Nouvelle ligne de données à tester\n",
    "data = {\n",
    "    'age': [34],\n",
    "    'sex': ['male'],\n",
    "    'bmi': [18.1],\n",
    "    'children': [3],\n",
    "    'smoker': ['no'],\n",
    "    'region': ['northwest']\n",
    "}"
   ]
  },
  {
   "cell_type": "code",
   "execution_count": 28,
   "metadata": {},
   "outputs": [],
   "source": [
    "# Conversion du dictionnaire en DataFrame\n",
    "df = pd.DataFrame(data)"
   ]
  },
  {
   "cell_type": "code",
   "execution_count": 29,
   "metadata": {},
   "outputs": [],
   "source": [
    "# Encode et mise à l'échelle des nouvelles données\n",
    "binary_encoder(df=df, colonne='sex', choix_true='female', choix_false='male')\n",
    "binary_encoder(df=df, colonne='smoker', choix_true='yes', choix_false='no')\n",
    "\n",
    "df['region_northeast'] = 0\n",
    "df['region_northwest'] = 0\n",
    "df['region_southeast'] = 0\n",
    "df['region_southwest'] = 0\n",
    "\n",
    "if df['region'][0] == 'northwest':\n",
    "    df.loc[0, \"region_northwest\"] = 1\n",
    "elif df['region'][0] == 'northeast':\n",
    "    df.loc[0, \"region_northeast\"] = 1\n",
    "elif df['region'][0] == 'southwest':\n",
    "    df.loc[0, \"region_southwest\"] = 1\n",
    "elif df['region'][0] == 'southeast':\n",
    "    df.loc[0, \"region_southeast\"] = 1\n",
    "\n",
    "df.drop(labels='region', axis=1, inplace=True)\n",
    "\n",
    "scaler = MinMaxScaler()\n",
    "scaler.fit(X_train)\n",
    "df_scaled = scaler.transform(df)"
   ]
  },
  {
   "cell_type": "code",
   "execution_count": 30,
   "metadata": {},
   "outputs": [
    {
     "name": "stdout",
     "output_type": "stream",
     "text": [
      "Prédiction de expenses : [3801.78192391]\n"
     ]
    },
    {
     "name": "stderr",
     "output_type": "stream",
     "text": [
      "c:\\Users\\tiger\\OneDrive\\Documents\\GitHub\\medical_expenses_manager\\.venv\\Lib\\site-packages\\sklearn\\utils\\validation.py:2739: UserWarning: X does not have valid feature names, but GradientBoostingRegressor was fitted with feature names\n",
      "  warnings.warn(\n"
     ]
    }
   ],
   "source": [
    "# Prédiction\n",
    "y_pred = loaded_model.predict(df_scaled)\n",
    "\n",
    "print(f\"Prédiction de expenses : {y_pred}\")"
   ]
  },
  {
   "cell_type": "markdown",
   "metadata": {},
   "source": [
    "- La prédiction est cohérente avec les données d'entraînement.\n",
    "- En jouant sur le paramètre le plus influent (smoker) on peut constater une nette différence du expenses prédit entre 'yes' et 'no'."
   ]
  },
  {
   "cell_type": "code",
   "execution_count": 2,
   "metadata": {},
   "outputs": [
    {
     "name": "stdout",
     "output_type": "stream",
     "text": [
      "3.12.4 (tags/v3.12.4:8e8a4ba, Jun  6 2024, 19:30:16) [MSC v.1940 64 bit (AMD64)]\n",
      "1.6.1\n"
     ]
    }
   ],
   "source": [
    "import sys\n",
    "import sklearn\n",
    "\n",
    "print(sys.version)\n",
    "print(sklearn.__version__)\n"
   ]
  }
 ],
 "metadata": {
  "kernelspec": {
   "display_name": ".venv",
   "language": "python",
   "name": "python3"
  },
  "language_info": {
   "codemirror_mode": {
    "name": "ipython",
    "version": 3
   },
   "file_extension": ".py",
   "mimetype": "text/x-python",
   "name": "python",
   "nbconvert_exporter": "python",
   "pygments_lexer": "ipython3",
   "version": "3.12.4"
  }
 },
 "nbformat": 4,
 "nbformat_minor": 2
}
